{
 "cells": [
  {
   "cell_type": "code",
   "execution_count": 1,
   "metadata": {},
   "outputs": [],
   "source": [
    "import numpy as np\n",
    "import pandas as pd\n",
    "import pickle"
   ]
  },
  {
   "cell_type": "code",
   "execution_count": 2,
   "metadata": {},
   "outputs": [],
   "source": [
    "from sklearn.model_selection import train_test_split\n",
    "from sklearn.linear_model import LinearRegression\n",
    "from sklearn.metrics import mean_squared_error\n",
    "\n",
    "from sklearn.pipeline import make_pipeline\n",
    "\n",
    "from sklearn.feature_extraction import DictVectorizer"
   ]
  },
  {
   "cell_type": "code",
   "execution_count": 3,
   "metadata": {},
   "outputs": [],
   "source": [
    "def read_data():\n",
    "    ref_data_path = '../data/interim/ref_data.csv'\n",
    "    ref_data = pd.read_csv(ref_data_path)\n",
    "    \n",
    "    ref_data.columns = ref_data.columns.str.lower().\\\n",
    "        str.replace(\"\\s*\\(.*\\)\\s*\", \"\", regex=True).\\\n",
    "            str.replace(' ', '_')\n",
    "    return ref_data"
   ]
  },
  {
   "cell_type": "code",
   "execution_count": 4,
   "metadata": {},
   "outputs": [],
   "source": [
    "def features_engineering(data: pd.DataFrame):\n",
    "    '''transform/select features'''\n",
    "    #from date column (string format) create new column with progressive day numbers (int type)\n",
    "    data['day_number'] = pd.to_datetime(data['date'], dayfirst=True)\n",
    "    data['day_number'] = (data['day_number'] - data['day_number'].min()).dt.days + 1\n",
    "    data['day_number'] = data['day_number'].map({value: index+1 for index, value in enumerate(data['day_number'].unique())})\n",
    "\n",
    "    #add a column with day of the week\n",
    "    data['weekday'] = pd.to_datetime(data['date'], dayfirst=True).dt.strftime('%A')\n",
    "    \n",
    "    #filtering out rows for not functioning days (deterministic relation: no_functioning -> no rented bike for that day)\n",
    "    data = data.loc[data['functioning_day']=='Yes']\n",
    "    \n",
    "    # qualitative maanual feature selection\n",
    "    data = data[['temperature', 'humidity', 'hour', 'day_number', \n",
    "                         'rainfall', 'seasons', 'weekday', 'rented_bike_count']]\n",
    "          \n",
    "    return data"
   ]
  },
  {
   "cell_type": "code",
   "execution_count": 5,
   "metadata": {},
   "outputs": [],
   "source": [
    "def prepare_dictionaries(df: pd.DataFrame):\n",
    "    '''prepare data for model application'''\n",
    "    numerical = list(df.select_dtypes(include=['int64', 'float64']).columns)\n",
    "    categorical = list(df.select_dtypes(include='object').columns)\n",
    "     \n",
    "    dicts = df[categorical + numerical].to_dict(orient='records')\n",
    "       \n",
    "    return dicts"
   ]
  },
  {
   "cell_type": "code",
   "execution_count": 6,
   "metadata": {},
   "outputs": [],
   "source": [
    "def train_baseline(X_train, y_train, dv):\n",
    "    lr = LinearRegression()\n",
    "    lr.fit(X_train, y_train)\n",
    "    \n",
    "    with open('../models/lin_reg.bin', 'wb') as f_out:\n",
    "        pickle.dump((dv, lr), f_out)\n",
    "    \n",
    "    return None"
   ]
  },
  {
   "cell_type": "code",
   "execution_count": 7,
   "metadata": {},
   "outputs": [],
   "source": [
    "def test_baseline(X_val, y_val):\n",
    "    with open('../models/lin_reg.bin', 'rb') as f_in:\n",
    "        _ , model = pickle.load(f_in)\n",
    "    y_pred = model.predict(X_val)\n",
    "    \n",
    "    rmse = mean_squared_error(y_val, y_pred, squared=False)\n",
    "    return rmse"
   ]
  },
  {
   "cell_type": "code",
   "execution_count": 8,
   "metadata": {},
   "outputs": [],
   "source": [
    "def main():\n",
    "    ref_data = read_data()\n",
    "    data_prep = features_engineering(ref_data)\n",
    "    \n",
    "    y = data_prep.rented_bike_count.values\n",
    "    X = data_prep.drop(columns='rented_bike_count',axis=1)\n",
    "    \n",
    "    df_train, df_val, y_train, y_val = train_test_split(\n",
    "        X, y, random_state=42, stratify=X['seasons']\n",
    "    )\n",
    "    \n",
    "    dv = DictVectorizer()\n",
    "    \n",
    "    train_dicts = prepare_dictionaries(df_train)\n",
    "    X_train = dv.fit_transform(train_dicts)\n",
    "    \n",
    "    train_baseline(X_train, y_train, dv)\n",
    "    \n",
    "    val_dicts = prepare_dictionaries(df_val)\n",
    "    X_val = dv.transform(val_dicts)\n",
    "    \n",
    "    rmse = test_baseline(X_val, y_val)\n",
    "    \n",
    "    print(f'rmse: {rmse}')\n",
    "    "
   ]
  },
  {
   "cell_type": "code",
   "execution_count": 9,
   "metadata": {},
   "outputs": [
    {
     "name": "stdout",
     "output_type": "stream",
     "text": [
      "rmse: 436.1860966078343\n"
     ]
    }
   ],
   "source": [
    "main()"
   ]
  }
 ],
 "metadata": {
  "kernelspec": {
   "display_name": ".venv",
   "language": "python",
   "name": "python3"
  },
  "language_info": {
   "codemirror_mode": {
    "name": "ipython",
    "version": 3
   },
   "file_extension": ".py",
   "mimetype": "text/x-python",
   "name": "python",
   "nbconvert_exporter": "python",
   "pygments_lexer": "ipython3",
   "version": "3.9.16"
  },
  "orig_nbformat": 4
 },
 "nbformat": 4,
 "nbformat_minor": 2
}
