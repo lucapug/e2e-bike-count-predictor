{
 "cells": [
  {
   "cell_type": "code",
   "execution_count": 1,
   "metadata": {},
   "outputs": [],
   "source": [
    "import pandas as pd"
   ]
  },
  {
   "cell_type": "code",
   "execution_count": 2,
   "metadata": {},
   "outputs": [],
   "source": [
    "df = pd.read_csv('../data/raw/SeoulBikeData.csv')"
   ]
  },
  {
   "cell_type": "code",
   "execution_count": 3,
   "metadata": {},
   "outputs": [],
   "source": [
    "# There are not enough data for doing comparisons season-wise. I held out the tail of the dataset for monitoring\n",
    "# even if I can expect data drifting due to seasonal effects\n",
    "\n",
    "curr_data = df.loc[df['Seasons']=='Autumn'].reset_index(drop=True)\n",
    "ref_data = df.loc[df['Seasons']!='Autumn']"
   ]
  },
  {
   "cell_type": "code",
   "execution_count": 4,
   "metadata": {},
   "outputs": [],
   "source": [
    "ref_data.to_csv('../data/interim/ref_data.csv', index=False)\n",
    "curr_data.to_csv('../data/interim/curr_data.csv', index=False)"
   ]
  },
  {
   "cell_type": "code",
   "execution_count": 5,
   "metadata": {},
   "outputs": [],
   "source": [
    "# curr_data organized in weekly batches for monitoring\n",
    "# Split curr_data into consecutive batches of 24x7=168\n",
    "batches = [curr_data[i:i+168] for i in range(0, len(curr_data), 168)]\n",
    "\n",
    "# Save each batch to csv\n",
    "for i, batch in enumerate(batches):\n",
    "    batch.to_csv(f'../data/interim/curr_data_week{i+1:02d}.csv', index=False)"
   ]
  }
 ],
 "metadata": {
  "kernelspec": {
   "display_name": ".venv",
   "language": "python",
   "name": "python3"
  },
  "language_info": {
   "codemirror_mode": {
    "name": "ipython",
    "version": 3
   },
   "file_extension": ".py",
   "mimetype": "text/x-python",
   "name": "python",
   "nbconvert_exporter": "python",
   "pygments_lexer": "ipython3",
   "version": "3.9.16"
  },
  "orig_nbformat": 4
 },
 "nbformat": 4,
 "nbformat_minor": 2
}
