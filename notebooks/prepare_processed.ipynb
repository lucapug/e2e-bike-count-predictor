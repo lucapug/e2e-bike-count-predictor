{
 "cells": [
  {
   "cell_type": "code",
   "execution_count": 1,
   "metadata": {},
   "outputs": [],
   "source": [
    "import numpy as np\n",
    "import pandas as pd\n",
    "import pickle"
   ]
  },
  {
   "cell_type": "code",
   "execution_count": 2,
   "metadata": {},
   "outputs": [],
   "source": [
    "def read_data(data_path):\n",
    "    path = data_path\n",
    "    ref_data = pd.read_csv(path)\n",
    "    \n",
    "    ref_data.columns = ref_data.columns.str.lower().\\\n",
    "        str.replace(\"\\s*\\(.*\\)\\s*\", \"\", regex=True).\\\n",
    "            str.replace(' ', '_')\n",
    "    return ref_data"
   ]
  },
  {
   "cell_type": "code",
   "execution_count": 3,
   "metadata": {},
   "outputs": [],
   "source": [
    "def features_engineering(data: pd.DataFrame):\n",
    "    '''transform/select features'''\n",
    "    #from date column (string format) create new column with progressive day numbers (int type)\n",
    "    data['day_number'] = pd.to_datetime(data['date'], dayfirst=True)\n",
    "    data['day_number'] = (data['day_number'] - data['day_number'].min()).dt.days + 1\n",
    "    data['day_number'] = data['day_number'].map({value: index+1 for index, value in enumerate(data['day_number'].unique())})\n",
    "\n",
    "    #add a column with day of the week\n",
    "    data['weekday'] = pd.to_datetime(data['date'], dayfirst=True).dt.strftime('%A')\n",
    "    \n",
    "    # qualitative maanual feature selection\n",
    "    data = data[['temperature', 'humidity', 'hour', 'day_number', \n",
    "                         'rainfall', 'seasons', 'weekday', 'rented_bike_count']]\n",
    "    return data"
   ]
  },
  {
   "cell_type": "code",
   "execution_count": 4,
   "metadata": {},
   "outputs": [],
   "source": [
    "def main():\n",
    "    '''\n",
    "    save processed data\n",
    "    '''\n",
    "    ref_data_path = '../data/interim/ref_data.csv'\n",
    "    ref_data = read_data(ref_data_path)\n",
    "    ref_data_processed = features_engineering(ref_data)\n",
    "\n",
    "    curr_data_path = '../data/interim/curr_data.csv'\n",
    "    curr_data = read_data(curr_data_path)\n",
    "    curr_data_processed = features_engineering(curr_data)\n",
    "    \n",
    "    ref_data_processed.to_csv('../data/processed/ref_data.csv', index=False)\n",
    "    curr_data_processed.to_csv('../data/processed/curr_data.csv', index=False)    \n",
    "    return curr_data_processed.shape, ref_data_processed.shape"
   ]
  },
  {
   "cell_type": "code",
   "execution_count": 5,
   "metadata": {},
   "outputs": [
    {
     "data": {
      "text/plain": [
       "((2184, 8), (6576, 8))"
      ]
     },
     "execution_count": 5,
     "metadata": {},
     "output_type": "execute_result"
    }
   ],
   "source": [
    "main()"
   ]
  }
 ],
 "metadata": {
  "kernelspec": {
   "display_name": ".venv",
   "language": "python",
   "name": "python3"
  },
  "language_info": {
   "codemirror_mode": {
    "name": "ipython",
    "version": 3
   },
   "file_extension": ".py",
   "mimetype": "text/x-python",
   "name": "python",
   "nbconvert_exporter": "python",
   "pygments_lexer": "ipython3",
   "version": "3.9.16"
  },
  "orig_nbformat": 4
 },
 "nbformat": 4,
 "nbformat_minor": 2
}
